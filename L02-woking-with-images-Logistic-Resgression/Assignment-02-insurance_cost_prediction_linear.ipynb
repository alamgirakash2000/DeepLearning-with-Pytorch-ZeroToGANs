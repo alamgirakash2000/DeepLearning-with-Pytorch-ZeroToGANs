{
 "cells": [
  {
   "cell_type": "markdown",
   "metadata": {
    "_cell_guid": "b1076dfc-b9ad-4769-8c92-a6c4dae69d19",
    "_uuid": "8f2839f25d086af736a60e9eeb907d3b93b6e0e5",
    "id": "Bk-MqG5ksQEU"
   },
   "source": [
    "# Insurance cost prediction using linear regression\n",
    "\n",
    "Make a submisson here: https://jovian.ai/learn/deep-learning-with-pytorch-zero-to-gans/assignment/assignment-2-train-your-first-model\n",
    "\n",
    "In this assignment we're going to use information like a person's age, sex, BMI, no. of children and smoking habit to predict the price of yearly medical bills. This kind of model is useful for insurance companies to determine the yearly insurance premium for a person. The dataset for this problem is taken from [Kaggle](https://www.kaggle.com/mirichoi0218/insurance).\n",
    "\n",
    "\n",
    "We will create a model with the following steps:\n",
    "1. Download and explore the dataset\n",
    "2. Prepare the dataset for training\n",
    "3. Create a linear regression model\n",
    "4. Train the model to fit the data\n",
    "5. Make predictions using the trained model\n",
    "\n",
    "\n",
    "This assignment builds upon the concepts from the first 2 lessons. It will help to review these Jupyter notebooks:\n",
    "- PyTorch basics: https://jovian.ai/aakashns/01-pytorch-basics\n",
    "- Linear Regression: https://jovian.ai/aakashns/02-linear-regression\n",
    "- Logistic Regression: https://jovian.ai/aakashns/03-logistic-regression\n",
    "- Linear regression (minimal): https://jovian.ai/aakashns/housing-linear-minimal\n",
    "- Logistic regression (minimal): https://jovian.ai/aakashns/mnist-logistic-minimal\n",
    "\n",
    "As you go through this notebook, you will find a **???** in certain places. Your job is to replace the **???** with appropriate code or values, to ensure that the notebook runs properly end-to-end . In some cases, you'll be required to choose some hyperparameters (learning rate, batch size etc.). Try to experiment with the hypeparameters to get the lowest loss.\n"
   ]
  },
  {
   "cell_type": "code",
   "execution_count": 1,
   "metadata": {
    "id": "kgxgRzf2sQEZ"
   },
   "outputs": [],
   "source": [
    "import torch\n",
    "import torchvision\n",
    "import torch.nn as nn\n",
    "import pandas as pd\n",
    "import matplotlib.pyplot as plt\n",
    "import seaborn as sns\n",
    "import torch.nn.functional as F\n",
    "from torchvision.datasets.utils import download_url\n",
    "from torch.utils.data import DataLoader, TensorDataset, random_split"
   ]
  },
  {
   "cell_type": "markdown",
   "metadata": {
    "id": "Oqq-pOEVsQEa"
   },
   "source": [
    "## Step 1: Download and explore the data\n",
    "\n",
    "Let us begin by downloading the data. We'll use the `download_url` function from PyTorch to get the data as a CSV (comma-separated values) file. "
   ]
  },
  {
   "cell_type": "code",
   "execution_count": 2,
   "metadata": {
    "_cell_guid": "79c7e3d0-c299-4dcb-8224-4455121ee9b0",
    "_uuid": "d629ff2d2480ee46fbb7e2d37f6b5fab8052498a",
    "colab": {
     "base_uri": "https://localhost:8080/"
    },
    "id": "7aUxRv_BsQEb",
    "outputId": "31d92074-7366-4675-9d47-ca37047e4a84"
   },
   "outputs": [
    {
     "name": "stdout",
     "output_type": "stream",
     "text": [
      "Using downloaded and verified file: .\\insurance.csv\n"
     ]
    }
   ],
   "source": [
    "DATASET_URL = \"https://gist.github.com/BirajCoder/5f068dfe759c1ea6bdfce9535acdb72d/raw/c84d84e3c80f93be67f6c069cbdc0195ec36acbd/insurance.csv\"\n",
    "DATA_FILENAME = \"insurance.csv\"\n",
    "download_url(DATASET_URL, '.')"
   ]
  },
  {
   "cell_type": "markdown",
   "metadata": {
    "id": "d9myCiwSsQEg"
   },
   "source": [
    "To load the dataset into memory, we'll use the `read_csv` function from the `pandas` library. The data will be loaded as a Pandas dataframe. See this short tutorial to learn more: https://data36.com/pandas-tutorial-1-basics-reading-data-files-dataframes-data-selection/"
   ]
  },
  {
   "cell_type": "code",
   "execution_count": 3,
   "metadata": {
    "colab": {
     "base_uri": "https://localhost:8080/",
     "height": 206
    },
    "id": "O88ozlqjsQEj",
    "outputId": "b6cec8f0-8d9a-4a8e-faa0-c976324a719d"
   },
   "outputs": [
    {
     "data": {
      "text/html": [
       "<div>\n",
       "<style scoped>\n",
       "    .dataframe tbody tr th:only-of-type {\n",
       "        vertical-align: middle;\n",
       "    }\n",
       "\n",
       "    .dataframe tbody tr th {\n",
       "        vertical-align: top;\n",
       "    }\n",
       "\n",
       "    .dataframe thead th {\n",
       "        text-align: right;\n",
       "    }\n",
       "</style>\n",
       "<table border=\"1\" class=\"dataframe\">\n",
       "  <thead>\n",
       "    <tr style=\"text-align: right;\">\n",
       "      <th></th>\n",
       "      <th>age</th>\n",
       "      <th>sex</th>\n",
       "      <th>bmi</th>\n",
       "      <th>children</th>\n",
       "      <th>smoker</th>\n",
       "      <th>region</th>\n",
       "      <th>charges</th>\n",
       "    </tr>\n",
       "  </thead>\n",
       "  <tbody>\n",
       "    <tr>\n",
       "      <th>0</th>\n",
       "      <td>19</td>\n",
       "      <td>female</td>\n",
       "      <td>27.900</td>\n",
       "      <td>0</td>\n",
       "      <td>yes</td>\n",
       "      <td>southwest</td>\n",
       "      <td>16884.92400</td>\n",
       "    </tr>\n",
       "    <tr>\n",
       "      <th>1</th>\n",
       "      <td>18</td>\n",
       "      <td>male</td>\n",
       "      <td>33.770</td>\n",
       "      <td>1</td>\n",
       "      <td>no</td>\n",
       "      <td>southeast</td>\n",
       "      <td>1725.55230</td>\n",
       "    </tr>\n",
       "    <tr>\n",
       "      <th>2</th>\n",
       "      <td>28</td>\n",
       "      <td>male</td>\n",
       "      <td>33.000</td>\n",
       "      <td>3</td>\n",
       "      <td>no</td>\n",
       "      <td>southeast</td>\n",
       "      <td>4449.46200</td>\n",
       "    </tr>\n",
       "    <tr>\n",
       "      <th>3</th>\n",
       "      <td>33</td>\n",
       "      <td>male</td>\n",
       "      <td>22.705</td>\n",
       "      <td>0</td>\n",
       "      <td>no</td>\n",
       "      <td>northwest</td>\n",
       "      <td>21984.47061</td>\n",
       "    </tr>\n",
       "    <tr>\n",
       "      <th>4</th>\n",
       "      <td>32</td>\n",
       "      <td>male</td>\n",
       "      <td>28.880</td>\n",
       "      <td>0</td>\n",
       "      <td>no</td>\n",
       "      <td>northwest</td>\n",
       "      <td>3866.85520</td>\n",
       "    </tr>\n",
       "  </tbody>\n",
       "</table>\n",
       "</div>"
      ],
      "text/plain": [
       "   age     sex     bmi  children smoker     region      charges\n",
       "0   19  female  27.900         0    yes  southwest  16884.92400\n",
       "1   18    male  33.770         1     no  southeast   1725.55230\n",
       "2   28    male  33.000         3     no  southeast   4449.46200\n",
       "3   33    male  22.705         0     no  northwest  21984.47061\n",
       "4   32    male  28.880         0     no  northwest   3866.85520"
      ]
     },
     "execution_count": 3,
     "metadata": {},
     "output_type": "execute_result"
    }
   ],
   "source": [
    "dataframe_raw = pd.read_csv(DATA_FILENAME)\n",
    "dataframe_raw.head()"
   ]
  },
  {
   "cell_type": "markdown",
   "metadata": {
    "id": "2IA6DDKKsQEk"
   },
   "source": [
    "We're going to do a slight customization of the data, so that you every participant receives a slightly different version of the dataset. Fill in your name below as a string (enter at least 5 characters)"
   ]
  },
  {
   "cell_type": "code",
   "execution_count": 4,
   "metadata": {
    "id": "V01f9W4hsQEl"
   },
   "outputs": [],
   "source": [
    "your_name = 'akash' # at least 5 characters"
   ]
  },
  {
   "cell_type": "markdown",
   "metadata": {
    "id": "dDp0mYTVsQEm"
   },
   "source": [
    "The `customize_dataset` function will customize the dataset slightly using your name as a source of random numbers."
   ]
  },
  {
   "cell_type": "code",
   "execution_count": 5,
   "metadata": {
    "id": "NG6pP0EbsQEm"
   },
   "outputs": [],
   "source": [
    "def customize_dataset(dataframe_raw, rand_str):\n",
    "    dataframe = dataframe_raw.copy(deep=True)\n",
    "    # drop some rows\n",
    "    dataframe = dataframe.sample(int(0.95*len(dataframe)), random_state=int(ord(rand_str[0])))\n",
    "    # scale input\n",
    "    dataframe.bmi = dataframe.bmi * ord(rand_str[1])/100.\n",
    "    # scale target\n",
    "    dataframe.charges = dataframe.charges * ord(rand_str[2])/100.\n",
    "    # drop column\n",
    "    if ord(rand_str[3]) % 2 == 1:\n",
    "        dataframe = dataframe.drop(['region'], axis=1)\n",
    "    return dataframe"
   ]
  },
  {
   "cell_type": "code",
   "execution_count": 6,
   "metadata": {
    "colab": {
     "base_uri": "https://localhost:8080/",
     "height": 206
    },
    "id": "dDL_qsb-sQEn",
    "outputId": "6cb1769b-d8c8-4409-fe93-3d54e43cdb78"
   },
   "outputs": [
    {
     "data": {
      "text/html": [
       "<div>\n",
       "<style scoped>\n",
       "    .dataframe tbody tr th:only-of-type {\n",
       "        vertical-align: middle;\n",
       "    }\n",
       "\n",
       "    .dataframe tbody tr th {\n",
       "        vertical-align: top;\n",
       "    }\n",
       "\n",
       "    .dataframe thead th {\n",
       "        text-align: right;\n",
       "    }\n",
       "</style>\n",
       "<table border=\"1\" class=\"dataframe\">\n",
       "  <thead>\n",
       "    <tr style=\"text-align: right;\">\n",
       "      <th></th>\n",
       "      <th>age</th>\n",
       "      <th>sex</th>\n",
       "      <th>bmi</th>\n",
       "      <th>children</th>\n",
       "      <th>smoker</th>\n",
       "      <th>charges</th>\n",
       "    </tr>\n",
       "  </thead>\n",
       "  <tbody>\n",
       "    <tr>\n",
       "      <th>27</th>\n",
       "      <td>55</td>\n",
       "      <td>female</td>\n",
       "      <td>35.06925</td>\n",
       "      <td>2</td>\n",
       "      <td>no</td>\n",
       "      <td>11900.573282</td>\n",
       "    </tr>\n",
       "    <tr>\n",
       "      <th>997</th>\n",
       "      <td>63</td>\n",
       "      <td>female</td>\n",
       "      <td>39.42950</td>\n",
       "      <td>0</td>\n",
       "      <td>no</td>\n",
       "      <td>13471.329445</td>\n",
       "    </tr>\n",
       "    <tr>\n",
       "      <th>162</th>\n",
       "      <td>54</td>\n",
       "      <td>male</td>\n",
       "      <td>42.37200</td>\n",
       "      <td>1</td>\n",
       "      <td>no</td>\n",
       "      <td>10137.035440</td>\n",
       "    </tr>\n",
       "    <tr>\n",
       "      <th>824</th>\n",
       "      <td>60</td>\n",
       "      <td>male</td>\n",
       "      <td>26.02240</td>\n",
       "      <td>0</td>\n",
       "      <td>no</td>\n",
       "      <td>12147.896656</td>\n",
       "    </tr>\n",
       "    <tr>\n",
       "      <th>392</th>\n",
       "      <td>48</td>\n",
       "      <td>male</td>\n",
       "      <td>33.64615</td>\n",
       "      <td>1</td>\n",
       "      <td>no</td>\n",
       "      <td>8695.138733</td>\n",
       "    </tr>\n",
       "  </tbody>\n",
       "</table>\n",
       "</div>"
      ],
      "text/plain": [
       "     age     sex       bmi  children smoker       charges\n",
       "27    55  female  35.06925         2     no  11900.573282\n",
       "997   63  female  39.42950         0     no  13471.329445\n",
       "162   54    male  42.37200         1     no  10137.035440\n",
       "824   60    male  26.02240         0     no  12147.896656\n",
       "392   48    male  33.64615         1     no   8695.138733"
      ]
     },
     "execution_count": 6,
     "metadata": {},
     "output_type": "execute_result"
    }
   ],
   "source": [
    "dataframe = customize_dataset(dataframe_raw, your_name)\n",
    "dataframe.head()"
   ]
  },
  {
   "cell_type": "markdown",
   "metadata": {
    "id": "jdS1M9TPsQEn"
   },
   "source": [
    "Let us answer some basic questions about the dataset. \n",
    "\n",
    "\n",
    "**Q1: How many rows does the dataset have?**"
   ]
  },
  {
   "cell_type": "code",
   "execution_count": 7,
   "metadata": {
    "colab": {
     "base_uri": "https://localhost:8080/"
    },
    "id": "f_jkQkRIsQEo",
    "outputId": "248780f4-129e-4d2d-9621-dffed2ad2c02"
   },
   "outputs": [
    {
     "name": "stdout",
     "output_type": "stream",
     "text": [
      "1271\n"
     ]
    }
   ],
   "source": [
    "num_rows = dataframe.shape[0]\n",
    "print(num_rows)"
   ]
  },
  {
   "cell_type": "markdown",
   "metadata": {
    "id": "rGeTRPCHsQEo"
   },
   "source": [
    "**Q2: How many columns doe the dataset have**"
   ]
  },
  {
   "cell_type": "code",
   "execution_count": 8,
   "metadata": {
    "colab": {
     "base_uri": "https://localhost:8080/"
    },
    "id": "xvBmxHKssQEp",
    "outputId": "b6947ea6-6aec-4308-a693-1dfb9cad905a"
   },
   "outputs": [
    {
     "name": "stdout",
     "output_type": "stream",
     "text": [
      "6\n"
     ]
    }
   ],
   "source": [
    "num_cols = dataframe.shape[1]\n",
    "print(num_cols)"
   ]
  },
  {
   "cell_type": "markdown",
   "metadata": {
    "id": "zhPPexiWsQEp"
   },
   "source": [
    "**Q3: What are the column titles of the input variables?**"
   ]
  },
  {
   "cell_type": "code",
   "execution_count": 9,
   "metadata": {
    "id": "2pU_7ueDsQEq"
   },
   "outputs": [],
   "source": [
    "input_cols = ['age',\t'sex',\t'bmi','children','smoker']"
   ]
  },
  {
   "cell_type": "markdown",
   "metadata": {
    "id": "SJZqA4OqsQEq"
   },
   "source": [
    "**Q4: Which of the input columns are non-numeric or categorial variables ?**\n",
    "\n",
    "Hint: `sex` is one of them. List the columns that are not numbers."
   ]
  },
  {
   "cell_type": "code",
   "execution_count": 10,
   "metadata": {
    "id": "h7Hjo2fxsQEq"
   },
   "outputs": [],
   "source": [
    "categorical_cols = [\"sex\",\"smoker\"]"
   ]
  },
  {
   "cell_type": "markdown",
   "metadata": {
    "id": "-6yG_3X5sQEr"
   },
   "source": [
    "**Q5: What are the column titles of output/target variable(s)?**"
   ]
  },
  {
   "cell_type": "code",
   "execution_count": 11,
   "metadata": {
    "id": "RCTcVUGAsQEr"
   },
   "outputs": [],
   "source": [
    "output_cols = ['charges']"
   ]
  },
  {
   "cell_type": "markdown",
   "metadata": {
    "id": "doPlXIgnsQEs"
   },
   "source": [
    "**Q: (Optional) What is the minimum, maximum and average value of the `charges` column? Can you show the distribution of values in a graph?**\n",
    "Use this data visualization cheatsheet for referece: https://jovian.ai/aakashns/dataviz-cheatsheet"
   ]
  },
  {
   "cell_type": "markdown",
   "metadata": {
    "id": "DwUVBv-CsQEs"
   },
   "source": [
    "Remember to commit your notebook to Jovian after every step, so that you don't lose your work."
   ]
  },
  {
   "cell_type": "code",
   "execution_count": 12,
   "metadata": {
    "colab": {
     "base_uri": "https://localhost:8080/"
    },
    "id": "wRTjkiKYsQEs",
    "outputId": "dc3c86f4-8de4-48c5-ce00-ea41e9aa00c7"
   },
   "outputs": [
    {
     "data": {
      "text/plain": [
       "count     1271.000000\n",
       "mean     12914.769447\n",
       "std      11804.448766\n",
       "min       1088.217683\n",
       "25%       4609.782798\n",
       "50%       9109.605620\n",
       "75%      15959.702237\n",
       "max      61857.315170\n",
       "Name: charges, dtype: float64"
      ]
     },
     "execution_count": 12,
     "metadata": {},
     "output_type": "execute_result"
    }
   ],
   "source": [
    "# Write your answer here\n",
    "dataframe.charges.describe()"
   ]
  },
  {
   "cell_type": "code",
   "execution_count": 13,
   "metadata": {
    "colab": {
     "base_uri": "https://localhost:8080/",
     "height": 362
    },
    "id": "Psk2JjtExfQ2",
    "outputId": "996c98ec-9c13-4d96-dd14-40d8b03df1cd"
   },
   "outputs": [
    {
     "name": "stderr",
     "output_type": "stream",
     "text": [
      "C:\\Users\\alamg\\anaconda3\\lib\\site-packages\\seaborn\\distributions.py:2619: FutureWarning: `distplot` is a deprecated function and will be removed in a future version. Please adapt your code to use either `displot` (a figure-level function with similar flexibility) or `histplot` (an axes-level function for histograms).\n",
      "  warnings.warn(msg, FutureWarning)\n"
     ]
    },
    {
     "data": {
      "text/plain": [
       "<AxesSubplot:xlabel='charges', ylabel='Density'>"
      ]
     },
     "execution_count": 13,
     "metadata": {},
     "output_type": "execute_result"
    },
    {
     "data": {
      "image/png": "[encoded data removed]",
      "text/plain": [
       "<Figure size 432x288 with 1 Axes>"
      ]
     },
     "metadata": {
      "needs_background": "light"
     },
     "output_type": "display_data"
    }
   ],
   "source": [
    "sns.distplot(dataframe.charges)"
   ]
  },
  {
   "cell_type": "markdown",
   "metadata": {
    "id": "Y3guBhrmsQEu"
   },
   "source": [
    "## Step 2: Prepare the dataset for training\n",
    "\n",
    "We need to convert the data from the Pandas dataframe into a PyTorch tensors for training. To do this, the first step is to convert it numpy arrays. If you've filled out `input_cols`, `categorial_cols` and `output_cols` correctly, this following function will perform the conversion to numpy arrays."
   ]
  },
  {
   "cell_type": "code",
   "execution_count": 14,
   "metadata": {
    "id": "o6Hn7HOYsQEu"
   },
   "outputs": [],
   "source": [
    "def dataframe_to_arrays(dataframe):\n",
    "    # Make a copy of the original dataframe\n",
    "    dataframe1 = dataframe.copy(deep=True)\n",
    "    # Convert non-numeric categorical columns to numbers\n",
    "    for col in categorical_cols:\n",
    "        dataframe1[col] = dataframe1[col].astype('category').cat.codes\n",
    "    # Extract input & outupts as numpy arrays\n",
    "    inputs_array = dataframe1[input_cols].to_numpy()\n",
    "    targets_array = dataframe1[output_cols].to_numpy()\n",
    "    return inputs_array, targets_array"
   ]
  },
  {
   "cell_type": "markdown",
   "metadata": {
    "id": "ma1qCMvysQEv"
   },
   "source": [
    "Read through the [Pandas documentation](https://pandas.pydata.org/pandas-docs/stable/user_guide/categorical.html) to understand how we're converting categorical variables into numbers."
   ]
  },
  {
   "cell_type": "code",
   "execution_count": 15,
   "metadata": {
    "colab": {
     "base_uri": "https://localhost:8080/"
    },
    "id": "CxHKFx1AsQEv",
    "outputId": "ba78f8cd-aabd-4447-a782-264f128b3468"
   },
   "outputs": [
    {
     "data": {
      "text/plain": [
       "(array([[55.     ,  0.     , 35.06925,  2.     ,  0.     ],\n",
       "        [63.     ,  0.     , 39.4295 ,  0.     ,  0.     ],\n",
       "        [54.     ,  1.     , 42.372  ,  1.     ,  0.     ],\n",
       "        ...,\n",
       "        [58.     ,  1.     , 34.2507 ,  1.     ,  0.     ],\n",
       "        [32.     ,  0.     , 47.3154 ,  0.     ,  0.     ],\n",
       "        [35.     ,  1.     , 19.1102 ,  1.     ,  0.     ]]),\n",
       " array([[11900.5732825],\n",
       "        [13471.329445 ],\n",
       "        [10137.03544  ],\n",
       "        ...,\n",
       "        [11588.227123 ],\n",
       "        [ 3874.352466 ],\n",
       "        [ 4963.005388 ]]))"
      ]
     },
     "execution_count": 15,
     "metadata": {},
     "output_type": "execute_result"
    }
   ],
   "source": [
    "inputs_array, targets_array = dataframe_to_arrays(dataframe)\n",
    "inputs_array, targets_array"
   ]
  },
  {
   "cell_type": "markdown",
   "metadata": {
    "id": "LtA-UJ7WsQEv"
   },
   "source": [
    "**Q6: Convert the numpy arrays `inputs_array` and `targets_array` into PyTorch tensors. Make sure that the data type is `torch.float32`.**"
   ]
  },
  {
   "cell_type": "code",
   "execution_count": 16,
   "metadata": {
    "id": "NzgeR_rZsQEv"
   },
   "outputs": [],
   "source": [
    "inputs = torch.Tensor(inputs_array)\n",
    "targets = torch.Tensor(targets_array)"
   ]
  },
  {
   "cell_type": "code",
   "execution_count": 17,
   "metadata": {
    "colab": {
     "base_uri": "https://localhost:8080/"
    },
    "id": "0J1VH0P4sQEw",
    "outputId": "01f9b1bd-bf59-4195-ad2c-732ace697b54"
   },
   "outputs": [
    {
     "data": {
      "text/plain": [
       "(torch.float32, torch.float32)"
      ]
     },
     "execution_count": 17,
     "metadata": {},
     "output_type": "execute_result"
    }
   ],
   "source": [
    "inputs.dtype, targets.dtype"
   ]
  },
  {
   "cell_type": "markdown",
   "metadata": {
    "id": "MLsXnVJHsQEw"
   },
   "source": [
    "Next, we need to create PyTorch datasets & data loaders for training & validation. We'll start by creating a `TensorDataset`."
   ]
  },
  {
   "cell_type": "code",
   "execution_count": 18,
   "metadata": {
    "id": "-v64Xa31sQEw"
   },
   "outputs": [],
   "source": [
    "dataset = TensorDataset(inputs, targets)"
   ]
  },
  {
   "cell_type": "markdown",
   "metadata": {
    "id": "LbM4paWgsQEx"
   },
   "source": [
    "**Q7: Pick a number between `0.1` and `0.2` to determine the fraction of data that will be used for creating the validation set. Then use `random_split` to create training & validation datasets.**"
   ]
  },
  {
   "cell_type": "code",
   "execution_count": 19,
   "metadata": {
    "id": "LgoSHo4XsQEx"
   },
   "outputs": [],
   "source": [
    "val_percent = 0.15 # between 0.1 and 0.2\n",
    "val_size = int(num_rows * val_percent)\n",
    "train_size = num_rows - val_size\n",
    "\n",
    "\n",
    "train_ds, val_ds = random_split(dataset,[train_size, val_size]) # Use the random_split function to split dataset into 2 parts of the desired length"
   ]
  },
  {
   "cell_type": "markdown",
   "metadata": {
    "id": "ryuUMWb-sQEy"
   },
   "source": [
    "Finally, we can create data loaders for training & validation.\n",
    "\n",
    "**Q8: Pick a batch size for the data loader.**"
   ]
  },
  {
   "cell_type": "code",
   "execution_count": 20,
   "metadata": {
    "id": "5nVlAbXasQEy"
   },
   "outputs": [],
   "source": [
    "batch_size = 128"
   ]
  },
  {
   "cell_type": "code",
   "execution_count": 21,
   "metadata": {
    "id": "7Mbr7qNmsQEz"
   },
   "outputs": [],
   "source": [
    "train_loader = DataLoader(train_ds, batch_size, shuffle=True)\n",
    "val_loader = DataLoader(val_ds, batch_size)"
   ]
  },
  {
   "cell_type": "markdown",
   "metadata": {
    "id": "R15lFyD4sQEz"
   },
   "source": [
    "Let's look at a batch of data to verify everything is working fine so far."
   ]
  },
  {
   "cell_type": "code",
   "execution_count": 22,
   "metadata": {
    "colab": {
     "base_uri": "https://localhost:8080/"
    },
    "id": "l1bRIHkjsQEz",
    "outputId": "0b34a093-243e-4842-ce52-a6aabdeb77e1"
   },
   "outputs": [
    {
     "name": "stdout",
     "output_type": "stream",
     "text": [
      "inputs: tensor([[26.0000,  0.0000, 23.7861,  0.0000,  0.0000],\n",
      "        [35.0000,  1.0000, 39.2369,  1.0000,  1.0000],\n",
      "        [18.0000,  0.0000, 38.1188,  0.0000,  0.0000],\n",
      "        [44.0000,  1.0000, 39.6970,  2.0000,  0.0000],\n",
      "        [53.0000,  1.0000, 32.6297,  0.0000,  0.0000],\n",
      "        [49.0000,  1.0000, 30.6983,  3.0000,  0.0000],\n",
      "        [35.0000,  1.0000, 19.1102,  1.0000,  0.0000],\n",
      "        [44.0000,  0.0000, 26.7500,  1.0000,  0.0000],\n",
      "        [47.0000,  1.0000, 38.6056,  1.0000,  1.0000],\n",
      "        [19.0000,  0.0000, 30.3880,  1.0000,  0.0000],\n",
      "        [22.0000,  1.0000, 33.9511,  0.0000,  0.0000],\n",
      "        [56.0000,  1.0000, 35.9841,  0.0000,  1.0000],\n",
      "        [62.0000,  1.0000, 28.5637,  0.0000,  1.0000],\n",
      "        [21.0000,  1.0000, 27.5471,  2.0000,  0.0000],\n",
      "        [64.0000,  1.0000, 36.9150,  0.0000,  0.0000],\n",
      "        [18.0000,  1.0000, 32.5280,  3.0000,  0.0000],\n",
      "        [64.0000,  0.0000, 38.4879,  0.0000,  0.0000],\n",
      "        [24.0000,  1.0000, 25.3109,  0.0000,  0.0000],\n",
      "        [64.0000,  1.0000, 40.8633,  0.0000,  0.0000],\n",
      "        [41.0000,  0.0000, 30.0135,  1.0000,  0.0000],\n",
      "        [64.0000,  1.0000, 40.5583,  0.0000,  0.0000],\n",
      "        [32.0000,  1.0000, 32.1321,  1.0000,  0.0000],\n",
      "        [26.0000,  0.0000, 31.7148,  4.0000,  0.0000],\n",
      "        [54.0000,  1.0000, 36.6047,  2.0000,  1.0000],\n",
      "        [18.0000,  1.0000, 24.9524,  1.0000,  0.0000],\n",
      "        [29.0000,  1.0000, 29.1040,  0.0000,  0.0000],\n",
      "        [35.0000,  1.0000, 30.9230,  3.0000,  0.0000],\n",
      "        [48.0000,  1.0000, 36.7010,  3.0000,  0.0000],\n",
      "        [24.0000,  0.0000, 32.2070,  3.0000,  0.0000],\n",
      "        [60.0000,  0.0000, 27.6488,  0.0000,  0.0000],\n",
      "        [57.0000,  1.0000, 33.7478,  0.0000,  0.0000],\n",
      "        [25.0000,  1.0000, 32.7313,  0.0000,  0.0000],\n",
      "        [63.0000,  0.0000, 29.6818,  0.0000,  1.0000],\n",
      "        [33.0000,  1.0000, 35.7808,  5.0000,  0.0000],\n",
      "        [41.0000,  1.0000, 35.8985,  0.0000,  0.0000],\n",
      "        [18.0000,  1.0000, 44.0198,  0.0000,  0.0000],\n",
      "        [22.0000,  0.0000, 37.0006,  2.0000,  0.0000],\n",
      "        [25.0000,  0.0000, 22.2560,  1.0000,  0.0000],\n",
      "        [26.0000,  0.0000, 32.0144,  1.0000,  0.0000],\n",
      "        [25.0000,  1.0000, 27.6488,  1.0000,  0.0000],\n",
      "        [26.0000,  1.0000, 31.1905,  1.0000,  0.0000],\n",
      "        [39.0000,  0.0000, 24.3960,  3.0000,  0.0000],\n",
      "        [58.0000,  1.0000, 24.9310,  0.0000,  0.0000],\n",
      "        [41.0000,  0.0000, 23.2778,  1.0000,  0.0000],\n",
      "        [29.0000,  1.0000, 41.6658,  1.0000,  0.0000],\n",
      "        [26.0000,  1.0000, 35.2030,  2.0000,  1.0000],\n",
      "        [23.0000,  1.0000, 44.8437,  0.0000,  0.0000],\n",
      "        [64.0000,  1.0000, 39.5472,  2.0000,  1.0000],\n",
      "        [30.0000,  1.0000, 40.4460,  2.0000,  1.0000],\n",
      "        [56.0000,  1.0000, 34.3577,  1.0000,  0.0000],\n",
      "        [19.0000,  0.0000, 19.9020,  0.0000,  0.0000],\n",
      "        [30.0000,  0.0000, 24.4977,  1.0000,  0.0000],\n",
      "        [27.0000,  1.0000, 30.4950,  0.0000,  1.0000],\n",
      "        [36.0000,  0.0000, 32.0144,  0.0000,  0.0000],\n",
      "        [35.0000,  1.0000, 29.5427,  1.0000,  0.0000],\n",
      "        [37.0000,  1.0000, 26.0224,  2.0000,  0.0000],\n",
      "        [21.0000,  1.0000, 24.8347,  0.0000,  0.0000],\n",
      "        [32.0000,  1.0000, 33.7050,  1.0000,  0.0000],\n",
      "        [52.0000,  0.0000, 40.1517,  2.0000,  0.0000],\n",
      "        [45.0000,  0.0000, 35.4170,  0.0000,  0.0000],\n",
      "        [27.0000,  1.0000, 33.3091,  1.0000,  1.0000],\n",
      "        [31.0000,  0.0000, 28.4834,  0.0000,  0.0000],\n",
      "        [25.0000,  1.0000, 38.1188,  0.0000,  0.0000],\n",
      "        [61.0000,  1.0000, 38.6270,  3.0000,  0.0000],\n",
      "        [64.0000,  0.0000, 28.7670,  0.0000,  1.0000],\n",
      "        [58.0000,  0.0000, 35.7808,  0.0000,  0.0000],\n",
      "        [38.0000,  0.0000, 43.4045,  1.0000,  0.0000],\n",
      "        [47.0000,  1.0000, 30.1901,  3.0000,  1.0000],\n",
      "        [32.0000,  1.0000, 29.7834,  1.0000,  0.0000],\n",
      "        [43.0000,  1.0000, 27.8521,  0.0000,  0.0000],\n",
      "        [47.0000,  0.0000, 38.5200,  1.0000,  0.0000],\n",
      "        [50.0000,  0.0000, 27.3920,  0.0000,  0.0000],\n",
      "        [63.0000,  1.0000, 42.5860,  3.0000,  0.0000],\n",
      "        [28.0000,  0.0000, 30.9016,  1.0000,  0.0000],\n",
      "        [38.0000,  0.0000, 20.8382,  2.0000,  0.0000],\n",
      "        [23.0000,  0.0000, 37.3055,  0.0000,  0.0000],\n",
      "        [24.0000,  1.0000, 35.9841,  4.0000,  0.0000],\n",
      "        [43.0000,  1.0000, 21.5391,  2.0000,  1.0000],\n",
      "        [24.0000,  0.0000, 21.9564,  0.0000,  1.0000],\n",
      "        [24.0000,  0.0000, 35.6791,  0.0000,  0.0000],\n",
      "        [64.0000,  0.0000, 24.5993,  0.0000,  1.0000],\n",
      "        [39.0000,  1.0000, 34.6038,  2.0000,  0.0000],\n",
      "        [24.0000,  0.0000, 36.3693,  0.0000,  0.0000],\n",
      "        [28.0000,  0.0000, 35.7380,  0.0000,  0.0000],\n",
      "        [42.0000,  0.0000, 35.4758,  1.0000,  0.0000],\n",
      "        [61.0000,  0.0000, 38.9319,  1.0000,  1.0000],\n",
      "        [56.0000,  1.0000, 43.1210,  0.0000,  0.0000],\n",
      "        [31.0000,  1.0000, 33.2396,  3.0000,  0.0000],\n",
      "        [19.0000,  0.0000, 34.3577,  0.0000,  0.0000],\n",
      "        [47.0000,  0.0000, 31.6131,  1.0000,  0.0000],\n",
      "        [45.0000,  1.0000, 32.6297,  2.0000,  0.0000],\n",
      "        [35.0000,  0.0000, 37.2360,  1.0000,  0.0000],\n",
      "        [40.0000,  0.0000, 31.6720,  0.0000,  0.0000],\n",
      "        [18.0000,  1.0000, 23.0746,  0.0000,  1.0000],\n",
      "        [34.0000,  0.0000, 28.2587,  1.0000,  0.0000],\n",
      "        [48.0000,  0.0000, 39.1353,  0.0000,  0.0000],\n",
      "        [34.0000,  0.0000, 40.6600,  3.0000,  0.0000],\n",
      "        [53.0000,  0.0000, 28.4620,  0.0000,  0.0000],\n",
      "        [46.0000,  1.0000, 45.3145,  3.0000,  1.0000],\n",
      "        [33.0000,  0.0000, 23.6845,  1.0000,  0.0000],\n",
      "        [19.0000,  0.0000, 30.9230,  0.0000,  0.0000],\n",
      "        [19.0000,  1.0000, 37.2360,  0.0000,  1.0000],\n",
      "        [24.0000,  1.0000, 28.6653,  1.0000,  0.0000],\n",
      "        [40.0000,  1.0000, 33.0363,  4.0000,  0.0000],\n",
      "        [54.0000,  1.0000, 33.8120,  0.0000,  0.0000],\n",
      "        [25.0000,  0.0000, 24.0910,  1.0000,  0.0000],\n",
      "        [40.0000,  0.0000, 35.0692,  2.0000,  1.0000],\n",
      "        [46.0000,  1.0000, 32.6297,  3.0000,  1.0000],\n",
      "        [30.0000,  1.0000, 30.6983,  3.0000,  1.0000],\n",
      "        [18.0000,  1.0000, 33.9511,  0.0000,  1.0000],\n",
      "        [32.0000,  1.0000, 30.0884,  4.0000,  1.0000],\n",
      "        [51.0000,  0.0000, 39.2369,  2.0000,  0.0000],\n",
      "        [27.0000,  1.0000, 45.0791,  0.0000,  1.0000],\n",
      "        [46.0000,  1.0000, 42.1847,  1.0000,  0.0000],\n",
      "        [62.0000,  0.0000, 35.2725,  3.0000,  0.0000],\n",
      "        [29.0000,  1.0000, 35.6791,  2.0000,  0.0000],\n",
      "        [29.0000,  1.0000, 36.8080,  0.0000,  1.0000],\n",
      "        [45.0000,  1.0000, 32.3140,  1.0000,  0.0000],\n",
      "        [43.0000,  0.0000, 21.4482,  2.0000,  1.0000],\n",
      "        [54.0000,  0.0000, 22.9729,  3.0000,  0.0000],\n",
      "        [26.0000,  1.0000, 31.5115,  0.0000,  0.0000],\n",
      "        [28.0000,  0.0000, 28.1570,  3.0000,  0.0000],\n",
      "        [57.0000,  1.0000, 43.8111,  0.0000,  0.0000],\n",
      "        [60.0000,  0.0000, 25.7174,  0.0000,  0.0000],\n",
      "        [35.0000,  1.0000, 25.8191,  1.0000,  0.0000],\n",
      "        [40.0000,  0.0000, 31.8967,  1.0000,  0.0000],\n",
      "        [53.0000,  0.0000, 40.0501,  1.0000,  0.0000],\n",
      "        [59.0000,  1.0000, 34.0153,  2.0000,  0.0000]])\n",
      "targets: tensor([[ 3080.9990],\n",
      "        [38581.0469],\n",
      "        [ 2144.7969],\n",
      "        [ 7508.1270],\n",
      "        [ 9769.8936],\n",
      "        [ 9956.5088],\n",
      "        [ 4963.0054],\n",
      "        [ 7394.8125],\n",
      "        [40944.8047],\n",
      "        [ 2261.5735],\n",
      "        [ 2187.1528],\n",
      "        [42603.5469],\n",
      "        [27258.2930],\n",
      "        [ 3181.4724],\n",
      "        [13408.1191],\n",
      "        [ 3377.4119],\n",
      "        [13884.4307],\n",
      "        [ 2282.3794],\n",
      "        [13978.6045],\n",
      "        [ 6567.0869],\n",
      "        [13784.2197],\n",
      "        [ 3952.2200],\n",
      "        [23931.5137],\n",
      "        [42932.9258],\n",
      "        [ 1659.6960],\n",
      "        [ 2780.1082],\n",
      "        [ 5749.0405],\n",
      "        [ 9276.1377],\n",
      "        [ 4107.8794],\n",
      "        [28055.4434],\n",
      "        [11012.6309],\n",
      "        [ 2645.5732],\n",
      "        [28637.4707],\n",
      "        [ 6454.1748],\n",
      "        [ 5528.8423],\n",
      "        [ 1112.3927],\n",
      "        [ 3807.9854],\n",
      "        [ 3112.5234],\n",
      "        [ 3291.1875],\n",
      "        [ 3210.4988],\n",
      "        [ 2815.8193],\n",
      "        [ 7746.2407],\n",
      "        [11005.1533],\n",
      "        [13313.7080],\n",
      "        [ 3367.2673],\n",
      "        [35002.6641],\n",
      "        [ 1782.1635],\n",
      "        [48090.3320],\n",
      "        [38064.1992],\n",
      "        [11410.1113],\n",
      "        [ 1677.0300],\n",
      "        [ 4577.9385],\n",
      "        [17761.4199],\n",
      "        [ 4742.3657],\n",
      "        [ 4604.6411],\n",
      "        [ 6012.7891],\n",
      "        [ 1469.8845],\n",
      "        [ 3954.2021],\n",
      "        [32467.8125],\n",
      "        [ 7124.7314],\n",
      "        [33762.2734],\n",
      "        [ 3645.1094],\n",
      "        [ 2458.3618],\n",
      "        [27103.0488],\n",
      "        [28451.0527],\n",
      "        [11864.6650],\n",
      "        [ 6182.3506],\n",
      "        [24167.7637],\n",
      "        [ 4320.7705],\n",
      "        [ 6632.2476],\n",
      "        [ 8300.2002],\n",
      "        [ 8664.1211],\n",
      "        [14714.9668],\n",
      "        [ 4207.6030],\n",
      "        [ 6725.2451],\n",
      "        [ 2812.5046],\n",
      "        [16614.5742],\n",
      "        [18204.7051],\n",
      "        [14134.7344],\n",
      "        [ 2769.7744],\n",
      "        [26226.7773],\n",
      "        [ 6147.9331],\n",
      "        [ 2399.1340],\n",
      "        [ 3076.8574],\n",
      "        [ 7410.2349],\n",
      "        [47062.0352],\n",
      "        [10284.3135],\n",
      "        [ 5262.2725],\n",
      "        [ 2066.7556],\n",
      "        [ 8663.0068],\n",
      "        [ 8161.0591],\n",
      "        [ 5088.6655],\n",
      "        [ 5733.6157],\n",
      "        [13335.4365],\n",
      "        [ 5223.7778],\n",
      "        [ 8411.0557],\n",
      "        [ 6010.5547],\n",
      "        [10044.9717],\n",
      "        [44766.5898],\n",
      "        [ 5193.4526],\n",
      "        [ 1690.9176],\n",
      "        [33736.2266],\n",
      "        [12231.5908],\n",
      "        [ 7917.8350],\n",
      "        [ 9554.9189],\n",
      "        [ 3486.3457],\n",
      "        [38803.2305],\n",
      "        [39498.9336],\n",
      "        [20123.6094],\n",
      "        [32720.7070],\n",
      "        [20828.3047],\n",
      "        [10522.6904],\n",
      "        [38423.4062],\n",
      "        [ 8092.6216],\n",
      "        [15143.8271],\n",
      "        [18859.0820],\n",
      "        [35111.7695],\n",
      "        [ 7217.8213],\n",
      "        [19204.1133],\n",
      "        [12101.0908],\n",
      "        [ 2810.4038],\n",
      "        [ 5152.8047],\n",
      "        [11219.3115],\n",
      "        [12621.8428],\n",
      "        [ 4971.4595],\n",
      "        [ 6305.2290],\n",
      "        [10630.9043],\n",
      "        [12540.9277]])\n"
     ]
    }
   ],
   "source": [
    "for xb, yb in train_loader:\n",
    "    print(\"inputs:\", xb)\n",
    "    print(\"targets:\", yb)\n",
    "    break"
   ]
  },
  {
   "cell_type": "markdown",
   "metadata": {
    "id": "Db1gGEG_sQE0"
   },
   "source": [
    "## Step 3: Create a Linear Regression Model\n",
    "\n",
    "Our model itself is a fairly straightforward linear regression (we'll build more complex models in the next assignment). \n"
   ]
  },
  {
   "cell_type": "code",
   "execution_count": 23,
   "metadata": {
    "colab": {
     "base_uri": "https://localhost:8080/"
    },
    "id": "foHy1YucsQE0",
    "outputId": "a41e055e-2dbd-4cd9-fa84-ff9a4b6fed3e"
   },
   "outputs": [
    {
     "data": {
      "text/plain": [
       "(5, 1)"
      ]
     },
     "execution_count": 23,
     "metadata": {},
     "output_type": "execute_result"
    }
   ],
   "source": [
    "input_size = len(input_cols)\n",
    "output_size = len(output_cols)\n",
    "input_size, output_size"
   ]
  },
  {
   "cell_type": "markdown",
   "metadata": {
    "id": "h7rV8cAtsQE1"
   },
   "source": [
    "**Q9: Complete the class definition below by filling out the constructor (`__init__`), `forward`, `training_step` and `validation_step` methods.**\n",
    "\n",
    "Hint: Think carefully about picking a good loss fuction (it's not cross entropy). Maybe try 2-3 of them and see which one works best. See https://pytorch.org/docs/stable/nn.functional.html#loss-functions"
   ]
  },
  {
   "cell_type": "code",
   "execution_count": 24,
   "metadata": {
    "id": "t2Q4QgMxsQE1"
   },
   "outputs": [],
   "source": [
    "class InsuranceModel(nn.Module):\n",
    "    def __init__(self):\n",
    "        super().__init__()\n",
    "        self.linear = nn.Linear(input_size, output_size)                  # fill this (hint: use input_size & output_size defined above)\n",
    "        \n",
    "    def forward(self, xb):\n",
    "        out = self.linear(xb)                          # fill this\n",
    "        return out\n",
    "    \n",
    "    def training_step(self, batch):\n",
    "        inputs, targets = batch \n",
    "        # Generate predictions\n",
    "        out = self(inputs)          \n",
    "        # Calcuate loss\n",
    "        loss = F.l1_loss(out,targets)                          # fill this\n",
    "        return loss\n",
    "    \n",
    "    def validation_step(self, batch):\n",
    "        inputs, targets = batch\n",
    "        # Generate predictions\n",
    "        out = self(inputs)\n",
    "        # Calculate loss\n",
    "        loss = F.l1_loss(out,targets)                           # fill this    \n",
    "        return {'val_loss': loss.detach()}\n",
    "        \n",
    "    def validation_epoch_end(self, outputs):\n",
    "        batch_losses = [x['val_loss'] for x in outputs]\n",
    "        epoch_loss = torch.stack(batch_losses).mean()   # Combine losses\n",
    "        return {'val_loss': epoch_loss.item()}\n",
    "    \n",
    "    def epoch_end(self, epoch, result, num_epochs):\n",
    "        # Print result every 20th epoch\n",
    "        if (epoch+1) % 20 == 0 or epoch == num_epochs-1:\n",
    "            print(\"Epoch [{}], val_loss: {:.4f}\".format(epoch+1, result['val_loss']))"
   ]
  },
  {
   "cell_type": "markdown",
   "metadata": {
    "id": "fqUUxlbWsQE1"
   },
   "source": [
    "Let us create a model using the `InsuranceModel` class. You may need to come back later and re-run the next cell to reinitialize the model, in case the loss becomes `nan` or `infinity`."
   ]
  },
  {
   "cell_type": "code",
   "execution_count": 25,
   "metadata": {
    "id": "ypw89OPnsQE1"
   },
   "outputs": [],
   "source": [
    "model = InsuranceModel()"
   ]
  },
  {
   "cell_type": "markdown",
   "metadata": {
    "id": "MQyuhu14sQE2"
   },
   "source": [
    "Let's check out the weights and biases of the model using `model.parameters`."
   ]
  },
  {
   "cell_type": "code",
   "execution_count": 26,
   "metadata": {
    "colab": {
     "base_uri": "https://localhost:8080/"
    },
    "id": "4ztCVpNdsQE2",
    "outputId": "8dcf9e44-a651-4025-a486-22d893e110de"
   },
   "outputs": [
    {
     "data": {
      "text/plain": [
       "[Parameter containing:\n",
       " tensor([[ 0.4234, -0.4422, -0.2207,  0.2346, -0.1335]], requires_grad=True),\n",
       " Parameter containing:\n",
       " tensor([-0.1504], requires_grad=True)]"
      ]
     },
     "execution_count": 26,
     "metadata": {},
     "output_type": "execute_result"
    }
   ],
   "source": [
    "list(model.parameters())"
   ]
  },
  {
   "cell_type": "markdown",
   "metadata": {
    "id": "rLRf7byksQE3"
   },
   "source": [
    "## Step 4: Train the model to fit the data\n",
    "\n",
    "To train our model, we'll use the same `fit` function explained in the lecture. That's the benefit of defining a generic training loop - you can use it for any problem."
   ]
  },
  {
   "cell_type": "code",
   "execution_count": 27,
   "metadata": {
    "id": "KkwdVjUxsQE3"
   },
   "outputs": [],
   "source": [
    "def evaluate(model, val_loader):\n",
    "    outputs = [model.validation_step(batch) for batch in val_loader]\n",
    "    return model.validation_epoch_end(outputs)\n",
    "\n",
    "def fit(epochs, lr, model, train_loader, val_loader, opt_func=torch.optim.SGD):\n",
    "    history = []\n",
    "    optimizer = opt_func(model.parameters(), lr)\n",
    "    for epoch in range(epochs):\n",
    "        # Training Phase \n",
    "        for batch in train_loader:\n",
    "            loss = model.training_step(batch)\n",
    "            loss.backward()\n",
    "            optimizer.step()\n",
    "            optimizer.zero_grad()\n",
    "        # Validation phase\n",
    "        result = evaluate(model, val_loader)\n",
    "        model.epoch_end(epoch, result, epochs)\n",
    "        history.append(result)\n",
    "    return history"
   ]
  },
  {
   "cell_type": "markdown",
   "metadata": {
    "id": "5YZ9oBYFsQE3"
   },
   "source": [
    "**Q10: Use the `evaluate` function to calculate the loss on the validation set before training.**"
   ]
  },
  {
   "cell_type": "code",
   "execution_count": 28,
   "metadata": {
    "colab": {
     "base_uri": "https://localhost:8080/"
    },
    "id": "D3kIIZoXsQE3",
    "outputId": "e4ab7133-7c0b-486d-f88a-960dbebb4bd1"
   },
   "outputs": [
    {
     "name": "stdout",
     "output_type": "stream",
     "text": [
      "{'val_loss': 12990.478515625}\n"
     ]
    }
   ],
   "source": [
    "result = evaluate(model, val_loader) # Use the the evaluate function\n",
    "print(result)"
   ]
  },
  {
   "cell_type": "markdown",
   "metadata": {
    "id": "8VAWY5i0sQE4"
   },
   "source": [
    "\n",
    "We are now ready to train the model. You may need to run the training loop many times, for different number of epochs and with different learning rates, to get a good result. Also, if your loss becomes too large (or `nan`), you may have to re-initialize the model by running the cell `model = InsuranceModel()`. Experiment with this for a while, and try to get to as low a loss as possible."
   ]
  },
  {
   "cell_type": "markdown",
   "metadata": {
    "id": "zTymc8jwsQE4"
   },
   "source": [
    "**Q11: Train the model 4-5 times with different learning rates & for different number of epochs.**\n",
    "\n",
    "Hint: Vary learning rates by orders of 10 (e.g. `1e-2`, `1e-3`, `1e-4`, `1e-5`, `1e-6`) to figure out what works."
   ]
  },
  {
   "cell_type": "code",
   "execution_count": 29,
   "metadata": {
    "colab": {
     "base_uri": "https://localhost:8080/"
    },
    "id": "3O0ef6wMsQE4",
    "outputId": "9978871e-db2e-4c71-c1c0-1efeb0b316e0"
   },
   "outputs": [
    {
     "name": "stdout",
     "output_type": "stream",
     "text": [
      "Epoch [20], val_loss: 9035.6699\n",
      "Epoch [40], val_loss: 7606.5244\n",
      "Epoch [60], val_loss: 7283.3496\n",
      "Epoch [80], val_loss: 7203.0293\n",
      "Epoch [100], val_loss: 7163.5913\n",
      "Epoch [120], val_loss: 7133.4648\n",
      "Epoch [140], val_loss: 7105.4106\n",
      "Epoch [160], val_loss: 7078.5347\n",
      "Epoch [180], val_loss: 7051.6733\n",
      "Epoch [200], val_loss: 7025.5244\n",
      "Epoch [220], val_loss: 7000.7637\n",
      "Epoch [240], val_loss: 6977.5723\n",
      "Epoch [260], val_loss: 6955.5225\n",
      "Epoch [280], val_loss: 6933.2031\n",
      "Epoch [300], val_loss: 6910.2881\n",
      "Epoch [320], val_loss: 6890.3477\n",
      "Epoch [340], val_loss: 6869.6743\n",
      "Epoch [360], val_loss: 6849.6001\n",
      "Epoch [380], val_loss: 6827.5610\n",
      "Epoch [400], val_loss: 6807.9775\n",
      "Epoch [420], val_loss: 6789.2070\n",
      "Epoch [440], val_loss: 6772.0869\n",
      "Epoch [460], val_loss: 6755.6094\n",
      "Epoch [480], val_loss: 6740.1323\n",
      "Epoch [500], val_loss: 6726.4648\n",
      "Epoch [520], val_loss: 6712.8867\n",
      "Epoch [540], val_loss: 6699.6274\n",
      "Epoch [560], val_loss: 6688.5020\n",
      "Epoch [580], val_loss: 6679.9395\n",
      "Epoch [600], val_loss: 6672.0410\n",
      "Epoch [620], val_loss: 6665.7100\n",
      "Epoch [640], val_loss: 6660.4102\n",
      "Epoch [660], val_loss: 6654.9912\n",
      "Epoch [680], val_loss: 6650.9106\n",
      "Epoch [700], val_loss: 6647.4199\n",
      "Epoch [720], val_loss: 6645.4531\n",
      "Epoch [740], val_loss: 6643.7925\n",
      "Epoch [760], val_loss: 6642.8687\n",
      "Epoch [780], val_loss: 6641.8315\n",
      "Epoch [800], val_loss: 6639.8423\n",
      "Epoch [820], val_loss: 6638.6572\n",
      "Epoch [840], val_loss: 6637.5654\n",
      "Epoch [860], val_loss: 6636.9727\n",
      "Epoch [880], val_loss: 6636.1616\n",
      "Epoch [900], val_loss: 6635.7144\n",
      "Epoch [920], val_loss: 6635.2871\n",
      "Epoch [940], val_loss: 6634.4321\n",
      "Epoch [960], val_loss: 6634.1914\n",
      "Epoch [980], val_loss: 6633.3013\n",
      "Epoch [1000], val_loss: 6632.8770\n"
     ]
    }
   ],
   "source": [
    "epochs = 1000\n",
    "lr = 1e-2\n",
    "history1 = fit(epochs, lr, model, train_loader, val_loader)"
   ]
  },
  {
   "cell_type": "code",
   "execution_count": 30,
   "metadata": {
    "colab": {
     "base_uri": "https://localhost:8080/"
    },
    "id": "0DOTDg4LsQE4",
    "outputId": "3a801e14-6f90-4fe7-fc71-6d421230cb67"
   },
   "outputs": [
    {
     "name": "stdout",
     "output_type": "stream",
     "text": [
      "Epoch [20], val_loss: 6632.8232\n",
      "Epoch [40], val_loss: 6632.7715\n",
      "Epoch [60], val_loss: 6632.7256\n",
      "Epoch [80], val_loss: 6632.6523\n",
      "Epoch [100], val_loss: 6632.5923\n"
     ]
    }
   ],
   "source": [
    "epochs = 100\n",
    "lr = 0.001\n",
    "history2 = fit(epochs, lr, model, train_loader, val_loader)"
   ]
  },
  {
   "cell_type": "code",
   "execution_count": 31,
   "metadata": {
    "colab": {
     "base_uri": "https://localhost:8080/"
    },
    "id": "se8gWEE_sQE5",
    "outputId": "6885fe1f-344a-492c-cbed-d3478025a2be"
   },
   "outputs": [
    {
     "name": "stdout",
     "output_type": "stream",
     "text": [
      "Epoch [20], val_loss: 6632.5889\n",
      "Epoch [40], val_loss: 6632.5830\n",
      "Epoch [60], val_loss: 6632.5811\n",
      "Epoch [80], val_loss: 6632.5781\n",
      "Epoch [100], val_loss: 6632.5713\n"
     ]
    }
   ],
   "source": [
    "epochs = 100\n",
    "lr = 0.0001\n",
    "history3 = fit(epochs, lr, model, train_loader, val_loader)"
   ]
  },
  {
   "cell_type": "code",
   "execution_count": 32,
   "metadata": {
    "colab": {
     "base_uri": "https://localhost:8080/"
    },
    "id": "OHQJdjCjsQE5",
    "outputId": "613ba965-6d4e-40fc-c415-7fed9b18dc0a"
   },
   "outputs": [
    {
     "name": "stdout",
     "output_type": "stream",
     "text": [
      "Epoch [20], val_loss: 6632.5693\n",
      "Epoch [40], val_loss: 6632.5693\n",
      "Epoch [60], val_loss: 6632.5684\n",
      "Epoch [80], val_loss: 6632.5674\n",
      "Epoch [100], val_loss: 6632.5679\n"
     ]
    }
   ],
   "source": [
    "epochs = 100\n",
    "lr = 0.00001\n",
    "history4 = fit(epochs, lr, model, train_loader, val_loader)"
   ]
  },
  {
   "cell_type": "code",
   "execution_count": 33,
   "metadata": {
    "colab": {
     "base_uri": "https://localhost:8080/"
    },
    "id": "nJ4DXNBGsQE5",
    "outputId": "b43c3851-5c80-45d5-e50f-be97e90bed9c"
   },
   "outputs": [
    {
     "name": "stdout",
     "output_type": "stream",
     "text": [
      "Epoch [20], val_loss: 6632.2241\n",
      "Epoch [40], val_loss: 6631.6069\n",
      "Epoch [60], val_loss: 6631.4722\n",
      "Epoch [80], val_loss: 6630.9771\n",
      "Epoch [100], val_loss: 6630.3545\n"
     ]
    }
   ],
   "source": [
    "epochs = 100\n",
    "lr = 0.01\n",
    "history5 = fit(epochs, lr, model, train_loader, val_loader)"
   ]
  },
  {
   "cell_type": "markdown",
   "metadata": {
    "id": "x5_2xBojsQE5"
   },
   "source": [
    "**Q12: What is the final validation loss of your model?**"
   ]
  },
  {
   "cell_type": "code",
   "execution_count": 34,
   "metadata": {
    "colab": {
     "base_uri": "https://localhost:8080/"
    },
    "id": "9_GiIyw7sQE5",
    "outputId": "53ef9644-2d79-4fbd-c137-c39b946f60b6"
   },
   "outputs": [
    {
     "data": {
      "text/plain": [
       "{'val_loss': 6630.3544921875}"
      ]
     },
     "execution_count": 34,
     "metadata": {},
     "output_type": "execute_result"
    }
   ],
   "source": [
    "val_loss = history5[-1]\n",
    "val_loss"
   ]
  },
  {
   "cell_type": "markdown",
   "metadata": {
    "id": "J-7HG2J9sQE6"
   },
   "source": [
    "Now scroll back up, re-initialize the model, and try different set of values for batch size, number of epochs, learning rate etc. Commit each experiment and use the \"Compare\" and \"View Diff\" options on Jovian to compare the different results."
   ]
  },
  {
   "cell_type": "markdown",
   "metadata": {
    "id": "p5_iA_ERsQE6"
   },
   "source": [
    "## Step 5: Make predictions using the trained model\n",
    "\n",
    "**Q13: Complete the following function definition to make predictions on a single input**"
   ]
  },
  {
   "cell_type": "code",
   "execution_count": 35,
   "metadata": {
    "id": "EgyZSJDZsQE7"
   },
   "outputs": [],
   "source": [
    "def predict_single(input, target, model):\n",
    "    inputs = input.unsqueeze(0)\n",
    "    predictions = model(input)                # fill this\n",
    "    prediction = predictions[0].detach()\n",
    "    print(\"Input:\", input)\n",
    "    print(\"Target:\", target)\n",
    "    print(\"Prediction:\", prediction)"
   ]
  },
  {
   "cell_type": "code",
   "execution_count": 36,
   "metadata": {
    "colab": {
     "base_uri": "https://localhost:8080/"
    },
    "id": "MKe-WuiOsQE7",
    "outputId": "2faf839a-8c68-469d-b561-c3fad9e7bf4d"
   },
   "outputs": [
    {
     "name": "stdout",
     "output_type": "stream",
     "text": [
      "Input: tensor([58.0000,  0.0000, 35.2725,  0.0000,  0.0000])\n",
      "Target: tensor([12058.0244])\n",
      "Prediction: tensor(11705.9502)\n"
     ]
    }
   ],
   "source": [
    "input, target = val_ds[0]\n",
    "predict_single(input, target, model)"
   ]
  },
  {
   "cell_type": "code",
   "execution_count": 37,
   "metadata": {
    "colab": {
     "base_uri": "https://localhost:8080/"
    },
    "id": "6PhZ25BrsQE7",
    "outputId": "6668610e-f365-4722-df20-544d927d2541"
   },
   "outputs": [
    {
     "name": "stdout",
     "output_type": "stream",
     "text": [
      "Input: tensor([42.0000,  1.0000, 30.2917,  3.0000,  1.0000])\n",
      "Target: tensor([31803.8340])\n",
      "Prediction: tensor(8225.0811)\n"
     ]
    }
   ],
   "source": [
    "input, target = val_ds[10]\n",
    "predict_single(input, target, model)"
   ]
  },
  {
   "cell_type": "code",
   "execution_count": 38,
   "metadata": {
    "colab": {
     "base_uri": "https://localhost:8080/"
    },
    "id": "vs-i_onFsQE7",
    "outputId": "1fe588c9-df19-47a8-dd60-b9ec81eb334d"
   },
   "outputs": [
    {
     "name": "stdout",
     "output_type": "stream",
     "text": [
      "Input: tensor([21.0000,  1.0000, 38.0171,  0.0000,  0.0000])\n",
      "Target: tensor([1486.4956])\n",
      "Prediction: tensor(2457.3943)\n"
     ]
    }
   ],
   "source": [
    "input, target = val_ds[23]\n",
    "predict_single(input, target, model)"
   ]
  }
 ],
 "metadata": {
  "colab": {
   "name": "02-insurance-linear.ipynb",
   "provenance": []
  },
  "kernelspec": {
   "display_name": "Python 3 (ipykernel)",
   "language": "python",
   "name": "python3"
  },
  "language_info": {
   "codemirror_mode": {
    "name": "ipython",
    "version": 3
   },
   "file_extension": ".py",
   "mimetype": "text/x-python",
   "name": "python",
   "nbconvert_exporter": "python",
   "pygments_lexer": "ipython3",
   "version": "3.9.7"
  }
 },
 "nbformat": 4,
 "nbformat_minor": 1
}
