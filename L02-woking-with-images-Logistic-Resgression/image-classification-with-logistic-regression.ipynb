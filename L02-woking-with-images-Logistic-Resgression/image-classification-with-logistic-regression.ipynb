{
 "cells": [
  {
   "cell_type": "markdown",
   "id": "5012be1f",
   "metadata": {},
   "source": [
    "# Image Classification with Logistic Regression\n",
    "\n",
    "We'll use the famous [*MNIST Handwritten Digits Database*](http://yann.lecun.com/exdb/mnist/) as our training dataset. It consists of 28px by 28px grayscale images of handwritten digits (0 to 9) and labels for each image indicating which digit it represents."
   ]
  },
  {
   "cell_type": "markdown",
   "id": "d79270cc",
   "metadata": {},
   "source": [
    "First we need to import some libraires and set up the environment. Also set up some constants for the model"
   ]
  },
  {
   "cell_type": "code",
   "execution_count": 1,
   "id": "3f621489",
   "metadata": {},
   "outputs": [],
   "source": [
    "import os    \n",
    "os.environ['KMP_DUPLICATE_LIB_OK']='True'"
   ]
  },
  {
   "cell_type": "code",
   "execution_count": 2,
   "id": "18774a47",
   "metadata": {},
   "outputs": [],
   "source": [
    "import torch\n",
    "import torchvision\n",
    "import torch.nn as nn\n",
    "import matplotlib.pyplot as plt\n",
    "import torch.nn.functional as F\n",
    "import torchvision.transforms as transforms\n",
    "from torchvision.datasets import MNIST\n",
    "from torch.utils.data import random_split, DataLoader"
   ]
  },
  {
   "cell_type": "code",
   "execution_count": 3,
   "id": "574b0cb1",
   "metadata": {},
   "outputs": [],
   "source": [
    "# Hyperparmeters\n",
    "batch_size = 128\n",
    "learning_rate = 0.001\n",
    "\n",
    "# Other constants\n",
    "input_size = 28*28\n",
    "num_classes = 10"
   ]
  },
  {
   "cell_type": "markdown",
   "id": "9bdb458d",
   "metadata": {},
   "source": [
    " ## Dataset and Data loaders\n",
    " \n",
    " In this section, we will download the dataset from `MNIST Dataset` with tranforming it into `tesnsor`. Then split it into training and validation set by `random_split`. After that we will load the dataset after splitting them by `batch size` with the help of `DataLoader`."
   ]
  },
  {
   "cell_type": "code",
   "execution_count": 4,
   "id": "0e6ebbdb",
   "metadata": {},
   "outputs": [],
   "source": [
    "# Download dataset\n",
    "dataset = MNIST(root = 'data/', train = True, \n",
    "                transform = transforms.ToTensor(), download=True)\n",
    "\n",
    "# Training, validation and test dataset\n",
    "train_ds, val_ds = random_split(dataset, [50000,10000])\n",
    "test_ds = MNIST(root ='data/', train = False, transform = transforms.ToTensor())\n",
    "\n",
    "# DataLoaders\n",
    "train_loader = DataLoader(train_ds, batch_size, shuffle=True)\n",
    "val_loader = DataLoader(val_ds, batch_size*2)\n",
    "test_loader = DataLoader(test_ds, batch_size*2)"
   ]
  },
  {
   "cell_type": "code",
   "execution_count": 5,
   "id": "e5373f5b",
   "metadata": {},
   "outputs": [
    {
     "name": "stdout",
     "output_type": "stream",
     "text": [
      "Label: 6\n"
     ]
    },
    {
     "data": {
      "image/png": "[encoded data removed]",
      "text/plain": [
       "<Figure size 432x288 with 1 Axes>"
      ]
     },
     "metadata": {
      "needs_background": "light"
     },
     "output_type": "display_data"
    }
   ],
   "source": [
    "image, label = train_ds[0]\n",
    "plt.imshow(image[0], cmap='gray')\n",
    "print('Label:', label)"
   ]
  },
  {
   "cell_type": "markdown",
   "id": "d2b59ffc",
   "metadata": {},
   "source": [
    "## Creating Model\n",
    "\n",
    "In this section we will create a model with the help of `nn.Linear` from `tourch`."
   ]
  },
  {
   "cell_type": "code",
   "execution_count": 6,
   "id": "8e2c2b34",
   "metadata": {},
   "outputs": [],
   "source": [
    "class MnistModel(nn.Module):\n",
    "    def __init__(self):\n",
    "        super().__init__()\n",
    "        self.linear = nn.Linear(input_size, num_classes)\n",
    "        \n",
    "    def forward(self, xb):\n",
    "        xb = xb.reshape(-1, 784)    # To make each image as a flat vector\n",
    "        out = self.linear(xb)\n",
    "        return out\n",
    "    \n",
    "    def training_step(self, batch):\n",
    "        images, labels = batch\n",
    "        out = self(images)                     # Generate prediction\n",
    "        loss = F.cross_entropy(out, labels)    # Calculate loss\n",
    "        return loss\n",
    "    \n",
    "    def validation_step(self, batch):\n",
    "        images, labels = batch\n",
    "        out = self(images)\n",
    "        loss = F.cross_entropy(out, labels)\n",
    "        acc = accuracy(out, labels)            # Calculate Loss\n",
    "        return {'val_loss': loss.detach(), \"val_acc\":acc.detach()}\n",
    "    \n",
    "    def validation_epoch_end(self, outputs):\n",
    "        batch_losses = [x['val_loss'] for x in outputs]\n",
    "        epoch_loss = torch.stack(batch_losses).mean()  # Combine losses\n",
    "        batch_accs = [x['val_acc'] for x in outputs]\n",
    "        epoch_accs = torch.stack(batch_accs).mean()    # Combine accuracies\n",
    "        return { \"val_loss\": epoch_loss.item(), \"val_acc\": epoch_accs.item()}\n",
    "    \n",
    "    def epoch_end(self, epoch, result):\n",
    "        print(\"Epoch [{}], val_loss: {:.4f}, val_acc: {:.4f}\".format(epoch, result['val_loss'], result[\"val_acc\"]))\n",
    "        \n",
    "model = MnistModel()"
   ]
  },
  {
   "cell_type": "code",
   "execution_count": 7,
   "id": "ed30789f",
   "metadata": {},
   "outputs": [],
   "source": [
    "def accuracy(outputs, labels):\n",
    "    _, preds = torch.max(outputs, dim=1)\n",
    "    return torch.tensor(torch.sum(preds == labels).item() / len(preds))"
   ]
  },
  {
   "cell_type": "markdown",
   "id": "d81a5f61",
   "metadata": {},
   "source": [
    "## Train the created Model an Evaluate\n",
    "\n",
    "In this section, we will train our created model by the training data and validate its' performance. "
   ]
  },
  {
   "cell_type": "code",
   "execution_count": 8,
   "id": "6fd0859a",
   "metadata": {},
   "outputs": [],
   "source": [
    "def evaluate(model, val_loader):\n",
    "    outputs = [model.validation_step(batch) for batch in val_loader]\n",
    "    return model.validation_epoch_end(outputs)\n",
    "\n",
    "def fit(epochs, lr, model, train_loader, val_loader, opt_func = torch.optim.SGD):\n",
    "    history = []\n",
    "    optimizer = opt_func(model.parameters(), lr)\n",
    "    for epoch in range(epochs):\n",
    "        # Training Phase\n",
    "        for batch in train_loader:\n",
    "            loss = model.training_step(batch)\n",
    "            loss.backward()\n",
    "            optimizer.step()\n",
    "            optimizer.zero_grad()\n",
    "        \n",
    "        # Validation phase\n",
    "        result = evaluate(model, val_loader)\n",
    "        model.epoch_end(epoch, result)\n",
    "        history.append(result)\n",
    "    return history"
   ]
  },
  {
   "cell_type": "markdown",
   "id": "13b5b9ab",
   "metadata": {},
   "source": [
    "Testing after initializtion of the model"
   ]
  },
  {
   "cell_type": "code",
   "execution_count": 9,
   "id": "a561420d",
   "metadata": {},
   "outputs": [
    {
     "data": {
      "text/plain": [
       "{'val_loss': 2.3163089752197266, 'val_acc': 0.06806640326976776}"
      ]
     },
     "execution_count": 9,
     "metadata": {},
     "output_type": "execute_result"
    }
   ],
   "source": [
    "evaluate(model, val_loader)"
   ]
  },
  {
   "cell_type": "code",
   "execution_count": 10,
   "id": "6e62ff65",
   "metadata": {},
   "outputs": [
    {
     "name": "stdout",
     "output_type": "stream",
     "text": [
      "Epoch [0], val_loss: 1.9521, val_acc: 0.6159\n",
      "Epoch [1], val_loss: 1.6817, val_acc: 0.7335\n",
      "Epoch [2], val_loss: 1.4801, val_acc: 0.7676\n",
      "Epoch [3], val_loss: 1.3278, val_acc: 0.7882\n",
      "Epoch [4], val_loss: 1.2107, val_acc: 0.8012\n",
      "Epoch [5], val_loss: 1.1186, val_acc: 0.8122\n",
      "Epoch [6], val_loss: 1.0447, val_acc: 0.8204\n",
      "Epoch [7], val_loss: 0.9841, val_acc: 0.8243\n",
      "Epoch [8], val_loss: 0.9336, val_acc: 0.8289\n",
      "Epoch [9], val_loss: 0.8909, val_acc: 0.8328\n",
      "Epoch [10], val_loss: 0.8544, val_acc: 0.8363\n",
      "Epoch [11], val_loss: 0.8227, val_acc: 0.8393\n",
      "Epoch [12], val_loss: 0.7949, val_acc: 0.8428\n",
      "Epoch [13], val_loss: 0.7703, val_acc: 0.8435\n",
      "Epoch [14], val_loss: 0.7484, val_acc: 0.8454\n",
      "Epoch [15], val_loss: 0.7288, val_acc: 0.8476\n",
      "Epoch [16], val_loss: 0.7110, val_acc: 0.8491\n",
      "Epoch [17], val_loss: 0.6949, val_acc: 0.8507\n",
      "Epoch [18], val_loss: 0.6802, val_acc: 0.8521\n",
      "Epoch [19], val_loss: 0.6667, val_acc: 0.8528\n"
     ]
    }
   ],
   "source": [
    "history = fit(20, 0.001, model, train_loader, val_loader)"
   ]
  },
  {
   "cell_type": "code",
   "execution_count": 11,
   "id": "456c9c66",
   "metadata": {},
   "outputs": [
    {
     "name": "stdout",
     "output_type": "stream",
     "text": [
      "Epoch [0], val_loss: 0.6654, val_acc: 0.8528\n",
      "Epoch [1], val_loss: 0.6641, val_acc: 0.8532\n",
      "Epoch [2], val_loss: 0.6629, val_acc: 0.8533\n",
      "Epoch [3], val_loss: 0.6616, val_acc: 0.8534\n",
      "Epoch [4], val_loss: 0.6604, val_acc: 0.8536\n",
      "Epoch [5], val_loss: 0.6591, val_acc: 0.8541\n",
      "Epoch [6], val_loss: 0.6579, val_acc: 0.8543\n",
      "Epoch [7], val_loss: 0.6567, val_acc: 0.8543\n",
      "Epoch [8], val_loss: 0.6555, val_acc: 0.8544\n",
      "Epoch [9], val_loss: 0.6543, val_acc: 0.8545\n"
     ]
    }
   ],
   "source": [
    "history = fit(10, 0.0001, model, train_loader, val_loader)"
   ]
  },
  {
   "cell_type": "code",
   "execution_count": 12,
   "id": "c10666ae",
   "metadata": {},
   "outputs": [
    {
     "data": {
      "text/plain": [
       "Text(0.5, 1.0, 'Accuracy vs. No. of epochs')"
      ]
     },
     "execution_count": 12,
     "metadata": {},
     "output_type": "execute_result"
    },
    {
     "data": {
      "image/png": "[encoded data removed]",
      "text/plain": [
       "<Figure size 432x288 with 1 Axes>"
      ]
     },
     "metadata": {
      "needs_background": "light"
     },
     "output_type": "display_data"
    }
   ],
   "source": [
    "accuracies = [r['val_acc'] for r in history]\n",
    "plt.plot(accuracies, '-x')\n",
    "plt.xlabel(\"Epoch\")\n",
    "plt.ylabel(\"Accuracy\")\n",
    "plt.title(\"Accuracy vs. No. of epochs\")"
   ]
  },
  {
   "cell_type": "markdown",
   "id": "8e21dadc",
   "metadata": {},
   "source": [
    "## Evaluate on Test set and make Prediction"
   ]
  },
  {
   "cell_type": "code",
   "execution_count": 13,
   "id": "5b771921",
   "metadata": {},
   "outputs": [
    {
     "data": {
      "text/plain": [
       "{'val_loss': 0.6303585171699524, 'val_acc': 0.8623046875}"
      ]
     },
     "execution_count": 13,
     "metadata": {},
     "output_type": "execute_result"
    }
   ],
   "source": [
    "result = evaluate(model, test_loader)\n",
    "result"
   ]
  },
  {
   "cell_type": "markdown",
   "id": "9924afd0",
   "metadata": {},
   "source": [
    "So our testing result is `86.23% accuracy` which is not quite satisfying."
   ]
  },
  {
   "cell_type": "code",
   "execution_count": 15,
   "id": "7dd6805b",
   "metadata": {},
   "outputs": [],
   "source": [
    "def predict_image(img, model):\n",
    "    xb = img.unsqueeze(0)\n",
    "    yb = model(xb)\n",
    "    _, preds = torch.max(yb, dim=1)\n",
    "    return preds[0].item()"
   ]
  },
  {
   "cell_type": "code",
   "execution_count": 21,
   "id": "fc246d54",
   "metadata": {},
   "outputs": [
    {
     "name": "stdout",
     "output_type": "stream",
     "text": [
      "Label: 5 , Predicted:  5\n"
     ]
    },
    {
     "data": {
      "image/png": "[encoded data removed]",
      "text/plain": [
       "<Figure size 432x288 with 1 Axes>"
      ]
     },
     "metadata": {
      "needs_background": "light"
     },
     "output_type": "display_data"
    }
   ],
   "source": [
    "img, label = test_ds[5885]\n",
    "plt.imshow(img[0],cmap=\"gray\")\n",
    "print(\"Label:\",label, \", Predicted: \", predict_image(img, model))"
   ]
  },
  {
   "cell_type": "code",
   "execution_count": 23,
   "id": "aef84ac0",
   "metadata": {},
   "outputs": [
    {
     "name": "stdout",
     "output_type": "stream",
     "text": [
      "Label: 7 , Predicted:  7\n"
     ]
    },
    {
     "data": {
      "image/png": "[encoded data removed]",
      "text/plain": [
       "<Figure size 432x288 with 1 Axes>"
      ]
     },
     "metadata": {
      "needs_background": "light"
     },
     "output_type": "display_data"
    }
   ],
   "source": [
    "img, label = test_ds[585]\n",
    "plt.imshow(img[0],cmap=\"gray\")\n",
    "print(\"Label:\",label, \", Predicted: \", predict_image(img, model))"
   ]
  },
  {
   "cell_type": "code",
   "execution_count": 24,
   "id": "548f8baa",
   "metadata": {},
   "outputs": [
    {
     "name": "stdout",
     "output_type": "stream",
     "text": [
      "Label: 8 , Predicted:  5\n"
     ]
    },
    {
     "data": {
      "image/png": "[encoded data removed]",
      "text/plain": [
       "<Figure size 432x288 with 1 Axes>"
      ]
     },
     "metadata": {
      "needs_background": "light"
     },
     "output_type": "display_data"
    }
   ],
   "source": [
    "img, label = test_ds[1234]\n",
    "plt.imshow(img[0],cmap=\"gray\")\n",
    "print(\"Label:\",label, \", Predicted: \", predict_image(img, model))"
   ]
  },
  {
   "cell_type": "code",
   "execution_count": 25,
   "id": "29d17858",
   "metadata": {},
   "outputs": [
    {
     "name": "stdout",
     "output_type": "stream",
     "text": [
      "Label: 0 , Predicted:  0\n"
     ]
    },
    {
     "data": {
      "image/png": "[encoded data removed]",
      "text/plain": [
       "<Figure size 432x288 with 1 Axes>"
      ]
     },
     "metadata": {
      "needs_background": "light"
     },
     "output_type": "display_data"
    }
   ],
   "source": [
    "img, label = test_ds[8764]\n",
    "plt.imshow(img[0],cmap=\"gray\")\n",
    "print(\"Label:\",label, \", Predicted: \", predict_image(img, model))"
   ]
  },
  {
   "cell_type": "markdown",
   "id": "c5e36c88",
   "metadata": {},
   "source": [
    "## Save the model"
   ]
  },
  {
   "cell_type": "code",
   "execution_count": 22,
   "id": "a039218e",
   "metadata": {},
   "outputs": [],
   "source": [
    "torch.save(model.state_dict(), 'img_classifier-logistic.pth')"
   ]
  }
 ],
 "metadata": {
  "kernelspec": {
   "display_name": "Python 3 (ipykernel)",
   "language": "python",
   "name": "python3"
  },
  "language_info": {
   "codemirror_mode": {
    "name": "ipython",
    "version": 3
   },
   "file_extension": ".py",
   "mimetype": "text/x-python",
   "name": "python",
   "nbconvert_exporter": "python",
   "pygments_lexer": "ipython3",
   "version": "3.9.7"
  }
 },
 "nbformat": 4,
 "nbformat_minor": 5
}
